{
 "cells": [
  {
   "cell_type": "code",
   "execution_count": 1,
   "id": "f617b089-9707-4e4e-ae82-21ab6e3076c3",
   "metadata": {},
   "outputs": [],
   "source": [
    "%load_ext autoreload\n",
    "%autoreload 2"
   ]
  },
  {
   "cell_type": "code",
   "execution_count": 2,
   "id": "b4a9c851-f1e9-493a-9abb-51a815819021",
   "metadata": {
    "tags": []
   },
   "outputs": [
    {
     "name": "stderr",
     "output_type": "stream",
     "text": [
      "/home/coler/anaconda3/envs/amyl_app/lib/python3.8/site-packages/dash_bootstrap_components/_table.py:1: UserWarning: \n",
      "The dash_html_components package is deprecated. Please replace\n",
      "`import dash_html_components as html` with `from dash import html`\n",
      "  import dash_html_components as html\n"
     ]
    },
    {
     "name": "stdout",
     "output_type": "stream",
     "text": [
      "Dash app running on http://127.0.0.1:8050/\n"
     ]
    }
   ],
   "source": [
    "from app import app, server\n",
    "\n",
    "from routes import render_page_content\n",
    "\n",
    "from layout.sidebar.sidebar_callbacks import toggle_collapse, toggle_classname\n",
    "\n",
    "from pages.scatter_3d.scatter_3d_callbacks import make_3d_scatter\n",
    "from pages.barpos.barpos_callbacks import make_barpos\n",
    "from pages.barword.barword_callbacks import make_barword\n",
    "\n",
    "# from environment.settings import APP_HOST, APP_PORT, APP_DEBUG, DEV_TOOLS_PROPS_CHECK\n",
    "\n",
    "if __name__ == \"__main__\":\n",
    "    app.run(\n",
    "        jupyter_mode=\"external\",\n",
    "        # host=APP_HOST,\n",
    "        port=\"8050\",\n",
    "        threaded=True,\n",
    "        debug=True,\n",
    "        dev_tools_props_check=True\n",
    "    )"
   ]
  }
 ],
 "metadata": {
  "kernelspec": {
   "display_name": "Python [conda env:amyl_app]",
   "language": "python",
   "name": "conda-env-amyl_app-py"
  },
  "language_info": {
   "codemirror_mode": {
    "name": "ipython",
    "version": 3
   },
   "file_extension": ".py",
   "mimetype": "text/x-python",
   "name": "python",
   "nbconvert_exporter": "python",
   "pygments_lexer": "ipython3",
   "version": "3.8.18"
  }
 },
 "nbformat": 4,
 "nbformat_minor": 5
}
